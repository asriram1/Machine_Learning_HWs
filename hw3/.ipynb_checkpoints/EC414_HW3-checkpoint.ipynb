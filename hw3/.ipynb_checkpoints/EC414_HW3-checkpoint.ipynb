{
 "cells": [
  {
   "cell_type": "markdown",
   "metadata": {},
   "source": [
    "# Homework 3: Feature Engineering, KNN, and Decision Trees\n",
    "\n",
    "By Rachel Manzelli and Brian Kulis with the help of N. Frumkin, K. Chauhan, and A. Tsiligkaridis\n",
    "\n",
    "\n",
    "*Wine classification dataset from the UCI Machine Learning Repository: http://archive.ics.uci.edu/ml/datasets/Wine*\n",
    "\n",
    "*Sea level dataset from NASA's climate change repository: https://climate.nasa.gov/vital-signs/*"
   ]
  },
  {
   "cell_type": "markdown",
   "metadata": {},
   "source": [
    "## Preamble\n",
    "\n",
    "Download the `hw3` folder from here: https://github.com/nfrumkin/EC414/tree/master/homework/hw3 (or clone the EC414 repository, if you prefer).\n",
    "\n",
    "To run and solve this assignment, you must have a working Jupyter Notebook installation.\n",
    "\n",
    "If you followed the installation instructions for `Python 3.6.x` and `Jupyter Notebook` from discussion 1, you should be set. In a terminal (cmd or Powershell for Windows users), navigate to the `hw3` folder. Then type `jupyter notebook` and press `Enter`.\n",
    "\n",
    "If you have Anaconda, run Anaconda and choose this file (`EC414_HW3.ipynb`) in Anaconda's file explorer. Use `Python 3` version.\n",
    "\n",
    "Below statements assume that you have already followed these instructions. If you need help with Python syntax, NumPy, or Matplotlib, you might find [Week 1 discussion material](https://github.com/nfrumkin/EC414/blob/master/discussions/Week%201%20-%20Python%20Review.ipynb) useful. \n",
    "\n",
    "To run code in a cell or to render [Markdown](https://en.wikipedia.org/wiki/Markdown)+[LaTeX](https://en.wikipedia.org/wiki/LaTeX) press `Ctrl+Enter` or `[>|]` (\"play\") button above. To edit any code or text cell [double] click on its content. To change cell type, choose \"Markdown\" or \"Code\" in the drop-down menu above.\n",
    "\n",
    "Put your solution into boxes marked with **`[double click here to add a solution]`** and press Ctrl+Enter to render text. [Double] click on a cell to edit or to see its source code. You can add cells via **`+`** sign at the top left corner.\n",
    "\n",
    "Submission instructions: please upload your completed solution file(s) to Blackboard by the due date (see Schedule)."
   ]
  },
  {
   "cell_type": "markdown",
   "metadata": {},
   "source": [
    "## Problem 1: Feature Engineering\n",
    "\n",
    "Given the sea level rise data over the past 25 years as a training set (`sealevel_train.csv`) and the past year's sea level rise data as a testing set (`sealevel_test.csv`):\n",
    "\n",
    "**a.** Apply Ordinary Least Squares regression on the training data. Plot both the training data and the regression curve on the same figure. *(Hint: use your code from Homework 2!)*\n",
    "\n",
    "**b.** Using the testing set, calculate the mean squared error (MSE) between the ground truth testing data and the prediction given by your regression curve from part a. Recall that the mean squared error is given by $MSE = \\frac{1}{n}\\sum_{i=1}^{n}(y_i - \\hat{y_i})^2$, where $y$ is the vector of $n$ observed values and $\\hat{y}$ is the vector of $n$ predictions.\n",
    "\n",
    "**c.** In machine learning, we often manipulate the raw data into some intermediary form to create a more robust feature representation. Repeat parts a. and b. for each of the following data transformations. *Be sure to apply the same transformation to the testing set before finding the MSE between the test data and the prediction.*\n",
    "\n",
    "* Apply a rolling mean with a window size of 5, 7, and 15. This transformation is given by $x_j = \\sum_{k=i}^{i+window size}(\\frac{x_k}{windowsize})$. With the $n$ data points given, pad the final values with zero. (For example, the mean at $n-2$ includes points $n-2$, $n-1$, and $n$, and will be 0 for $n+1$ and $n+2$ because we do not have data for those points.)\n",
    "\n",
    "* Apply first order differencing. The transformation is given by $x_{j} = x_i - x_{i-1}$ for every data point $x_i$ in the dataset, excluding the first data point.\n",
    "\n",
    "* One other data transformation of your choice. *Be sure to explain your transformation.*"
   ]
  },
  {
   "cell_type": "code",
   "execution_count": 1,
   "metadata": {},
   "outputs": [],
   "source": [
    "import numpy as np\n",
    "import pandas as pd\n",
    "\n",
    "from matplotlib import pyplot as plt\n",
    "\n",
    "from sklearn.metrics import mean_squared_error, mean_absolute_error\n",
    "from sklearn.linear_model import LinearRegression"
   ]
  },
  {
   "cell_type": "code",
   "execution_count": 63,
   "metadata": {},
   "outputs": [
    {
     "data": {
      "text/html": [
       "<div>\n",
       "<style scoped>\n",
       "    .dataframe tbody tr th:only-of-type {\n",
       "        vertical-align: middle;\n",
       "    }\n",
       "\n",
       "    .dataframe tbody tr th {\n",
       "        vertical-align: top;\n",
       "    }\n",
       "\n",
       "    .dataframe thead th {\n",
       "        text-align: right;\n",
       "    }\n",
       "</style>\n",
       "<table border=\"1\" class=\"dataframe\">\n",
       "  <thead>\n",
       "    <tr style=\"text-align: right;\">\n",
       "      <th></th>\n",
       "      <th>time</th>\n",
       "      <th>level_variation</th>\n",
       "    </tr>\n",
       "  </thead>\n",
       "  <tbody>\n",
       "    <tr>\n",
       "      <th>0</th>\n",
       "      <td>1993.011526</td>\n",
       "      <td>-37.52</td>\n",
       "    </tr>\n",
       "    <tr>\n",
       "      <th>1</th>\n",
       "      <td>1993.038692</td>\n",
       "      <td>-38.05</td>\n",
       "    </tr>\n",
       "    <tr>\n",
       "      <th>2</th>\n",
       "      <td>1993.065858</td>\n",
       "      <td>-37.61</td>\n",
       "    </tr>\n",
       "    <tr>\n",
       "      <th>3</th>\n",
       "      <td>1993.093025</td>\n",
       "      <td>-37.49</td>\n",
       "    </tr>\n",
       "    <tr>\n",
       "      <th>4</th>\n",
       "      <td>1993.120191</td>\n",
       "      <td>-36.48</td>\n",
       "    </tr>\n",
       "  </tbody>\n",
       "</table>\n",
       "</div>"
      ],
      "text/plain": [
       "          time  level_variation\n",
       "0  1993.011526           -37.52\n",
       "1  1993.038692           -38.05\n",
       "2  1993.065858           -37.61\n",
       "3  1993.093025           -37.49\n",
       "4  1993.120191           -36.48"
      ]
     },
     "execution_count": 63,
     "metadata": {},
     "output_type": "execute_result"
    }
   ],
   "source": [
    "# Read training set\n",
    "sea_level_df = pd.read_csv(\"sealevel_train.csv\")\n",
    "sea_level_df.head()"
   ]
  },
  {
   "cell_type": "code",
   "execution_count": 52,
   "metadata": {},
   "outputs": [
    {
     "data": {
      "text/html": [
       "<div>\n",
       "<style scoped>\n",
       "    .dataframe tbody tr th:only-of-type {\n",
       "        vertical-align: middle;\n",
       "    }\n",
       "\n",
       "    .dataframe tbody tr th {\n",
       "        vertical-align: top;\n",
       "    }\n",
       "\n",
       "    .dataframe thead th {\n",
       "        text-align: right;\n",
       "    }\n",
       "</style>\n",
       "<table border=\"1\" class=\"dataframe\">\n",
       "  <thead>\n",
       "    <tr style=\"text-align: right;\">\n",
       "      <th></th>\n",
       "      <th>time</th>\n",
       "      <th>level_variation</th>\n",
       "    </tr>\n",
       "  </thead>\n",
       "  <tbody>\n",
       "    <tr>\n",
       "      <th>0</th>\n",
       "      <td>2013.453940</td>\n",
       "      <td>26.31</td>\n",
       "    </tr>\n",
       "    <tr>\n",
       "      <th>1</th>\n",
       "      <td>2013.481106</td>\n",
       "      <td>26.32</td>\n",
       "    </tr>\n",
       "    <tr>\n",
       "      <th>2</th>\n",
       "      <td>2013.508272</td>\n",
       "      <td>26.44</td>\n",
       "    </tr>\n",
       "    <tr>\n",
       "      <th>3</th>\n",
       "      <td>2013.535439</td>\n",
       "      <td>26.54</td>\n",
       "    </tr>\n",
       "    <tr>\n",
       "      <th>4</th>\n",
       "      <td>2013.562605</td>\n",
       "      <td>26.49</td>\n",
       "    </tr>\n",
       "  </tbody>\n",
       "</table>\n",
       "</div>"
      ],
      "text/plain": [
       "          time  level_variation\n",
       "0  2013.453940            26.31\n",
       "1  2013.481106            26.32\n",
       "2  2013.508272            26.44\n",
       "3  2013.535439            26.54\n",
       "4  2013.562605            26.49"
      ]
     },
     "execution_count": 52,
     "metadata": {},
     "output_type": "execute_result"
    }
   ],
   "source": [
    "# Read testing set\n",
    "sea_level_df_test = pd.read_csv(\"sealevel_test.csv\")\n",
    "sea_level_df_test.head()"
   ]
  },
  {
   "cell_type": "code",
   "execution_count": 22,
   "metadata": {},
   "outputs": [
    {
     "name": "stdout",
     "output_type": "stream",
     "text": [
      "Populating the interactive namespace from numpy and matplotlib\n"
     ]
    },
    {
     "name": "stderr",
     "output_type": "stream",
     "text": [
      "/Library/Frameworks/Python.framework/Versions/3.6/lib/python3.6/site-packages/numpy/core/fromnumeric.py:2389: FutureWarning: Method .ptp is deprecated and will be removed in a future version. Use numpy.ptp instead.\n",
      "  return ptp(axis=axis, out=out, **kwargs)\n"
     ]
    },
    {
     "data": {
      "text/plain": [
       "[<matplotlib.lines.Line2D at 0x1267436d8>]"
      ]
     },
     "execution_count": 22,
     "metadata": {},
     "output_type": "execute_result"
    },
    {
     "data": {
      "image/png": "[encoded data removed]",
      "text/plain": [
       "<Figure size 432x288 with 1 Axes>"
      ]
     },
     "metadata": {
      "needs_background": "light"
     },
     "output_type": "display_data"
    }
   ],
   "source": [
    "# Part a - Fit linear regression model to training data (find OLS coefficients) #\n",
    "\n",
    "import statsmodels.api as sm\n",
    "from sklearn.model_selection import train_test_split\n",
    "\n",
    "X_train = sea_level_df['time']\n",
    "y_train = sea_level_df['level_variation']\n",
    "\n",
    "X_train = sm.add_constant(X_train)\n",
    "\n",
    "\n",
    "\n",
    "X_test= sea_level_df_test['time']\n",
    "y_test = sea_level_df_test['level_variation']\n",
    "X_test = sm.add_constant(X_test)\n",
    "# Predict using OLS model\n",
    "\n",
    "ols_model = LinearRegression()\n",
    "ols_model.fit(X_train, y_train)\n",
    "coeffs = ols_model.coef_\n",
    "\n",
    "%pylab inline\n",
    "X_prime = np.linspace(X_train.time.min(), X_train.time.max(), 100)[:, np.newaxis]\n",
    "X_prime = sm.add_constant(X_prime)\n",
    "y_hat = ols_model.predict(X_prime)\n",
    "plt.plot(X_train.time, y_train, alpha=0.3)\n",
    "\n",
    "plt.xlabel(\"Time\")\n",
    "plt.ylabel(\"Level Variation\")\n",
    "plt.title(\"Sea Level Variation\")\n",
    "plt.plot(X_prime[:, 1], y_hat, 'y', alpha=0.9)\n",
    "\n",
    "\n",
    "# Plot training data along with the regression curve"
   ]
  },
  {
   "cell_type": "code",
   "execution_count": 57,
   "metadata": {},
   "outputs": [
    {
     "name": "stdout",
     "output_type": "stream",
     "text": [
      "90.73366367292115\n",
      "0       -59.5664\n",
      "1       -82.7680\n",
      "2      -105.4368\n",
      "3      -127.5724\n",
      "4      -149.2324\n",
      "5      -170.5324\n",
      "6      -191.5980\n",
      "7      -212.5400\n",
      "8      -233.4464\n",
      "9      -254.3604\n",
      "10     -275.2860\n",
      "11     -296.2048\n",
      "12     -317.0872\n",
      "13     -337.9432\n",
      "14     -358.8092\n",
      "15     -379.7356\n",
      "16     -400.7660\n",
      "17     -421.9092\n",
      "18     -443.1564\n",
      "19     -464.4984\n",
      "20     -485.9384\n",
      "21     -507.4784\n",
      "22     -529.1068\n",
      "23     -550.7936\n",
      "24     -572.5048\n",
      "25     -594.2304\n",
      "26     -615.9752\n",
      "27     -637.7276\n",
      "28     -659.4224\n",
      "29     -680.9272\n",
      "         ...    \n",
      "724   -2935.8524\n",
      "725   -2917.9504\n",
      "726   -2899.9908\n",
      "727   -2881.9468\n",
      "728   -2863.7744\n",
      "729   -2845.4352\n",
      "730   -2826.9136\n",
      "731   -2808.2208\n",
      "732   -2789.3856\n",
      "733   -2770.4444\n",
      "734   -2751.4324\n",
      "735   -2732.3800\n",
      "736   -2713.3128\n",
      "737   -2694.2564\n",
      "738   -2675.2420\n",
      "739   -2656.3096\n",
      "740   -2637.5068\n",
      "741   -2618.8784\n",
      "742   -2600.4592\n",
      "743   -2582.2720\n",
      "744   -2564.3300\n",
      "745   -1910.9976\n",
      "746   -1267.7192\n",
      "747    -628.8964\n",
      "748       5.5360\n",
      "749       0.0000\n",
      "750       0.0000\n",
      "751       0.0000\n",
      "752       0.0000\n",
      "753       0.0000\n",
      "Name: level_variation, Length: 754, dtype: float64\n"
     ]
    },
    {
     "name": "stderr",
     "output_type": "stream",
     "text": [
      "/Library/Frameworks/Python.framework/Versions/3.6/lib/python3.6/site-packages/numpy/core/fromnumeric.py:2389: FutureWarning: Method .ptp is deprecated and will be removed in a future version. Use numpy.ptp instead.\n",
      "  return ptp(axis=axis, out=out, **kwargs)\n"
     ]
    }
   ],
   "source": [
    "# Part b - Prediction of testing points #\n",
    "\n",
    "mse = mean_squared_error(y_pred=ols_model.predict(X_test),\n",
    "                        y_true=y_test)\n",
    "\n",
    "print(mse)\n",
    "\n",
    "# Calculate mean squared error between ground truth and predictions\n",
    "\n",
    "X_train = sea_level_df['time']\n",
    "y_train = sea_level_df['level_variation']\n",
    "\n",
    "X_train = sm.add_constant(X_train)\n",
    "\n",
    "print(y_train)\n"
   ]
  },
  {
   "cell_type": "code",
   "execution_count": 101,
   "metadata": {},
   "outputs": [
    {
     "name": "stderr",
     "output_type": "stream",
     "text": [
      "/Library/Frameworks/Python.framework/Versions/3.6/lib/python3.6/site-packages/numpy/core/fromnumeric.py:2389: FutureWarning: Method .ptp is deprecated and will be removed in a future version. Use numpy.ptp instead.\n",
      "  return ptp(axis=axis, out=out, **kwargs)\n"
     ]
    },
    {
     "name": "stdout",
     "output_type": "stream",
     "text": [
      "Populating the interactive namespace from numpy and matplotlib\n",
      "84.15826153801477\n"
     ]
    },
    {
     "name": "stderr",
     "output_type": "stream",
     "text": [
      "/Library/Frameworks/Python.framework/Versions/3.6/lib/python3.6/site-packages/IPython/core/magics/pylab.py:160: UserWarning: pylab import has clobbered these variables: ['sum']\n",
      "`%matplotlib` prevents importing * from pylab and numpy\n",
      "  \"\\n`%matplotlib` prevents importing * from pylab and numpy\"\n"
     ]
    },
    {
     "data": {
      "image/png": "[encoded data removed]",
      "text/plain": [
       "<Figure size 432x288 with 1 Axes>"
      ]
     },
     "metadata": {
      "needs_background": "light"
     },
     "output_type": "display_data"
    }
   ],
   "source": [
    "# Part c - data transformations #\n",
    "# ROLLING MEAN\n",
    "# Window = 5\n",
    "sea_level_df = pd.read_csv(\"sealevel_train.csv\")\n",
    "sea_level_df_test = pd.read_csv(\"sealevel_test.csv\")\n",
    "\n",
    "X_train = sea_level_df['time']\n",
    "y_train = sea_level_df['level_variation']\n",
    "\n",
    "X_train = sm.add_constant(X_train)\n",
    "\n",
    "\n",
    "\n",
    "X_test= sea_level_df_test['time']\n",
    "y_test = sea_level_df_test['level_variation']\n",
    "X_test = sm.add_constant(X_test)\n",
    "\n",
    "#y_train.rolling(window = 5, center = True).mean()\n",
    "\n",
    "sum = 0\n",
    "num = 5\n",
    "n = len(y_train)\n",
    "for i in range(0, len(y_train)-(num-1)):\n",
    "    for j in range(0, num-1):\n",
    "        sum += y_train[i+j]\n",
    "    y_train[i] = sum/num\n",
    "    sum = 0\n",
    "\n",
    "for i in range(0, num-1):\n",
    "    y_train[n - 1 - i] = 0\n",
    "    \n",
    "sea_level_df = pd.read_csv(\"sealevel_train.csv\")\n",
    "sea_level_df_test = pd.read_csv(\"sealevel_test.csv\")\n",
    "\n",
    "X_test= sea_level_df_test['time']\n",
    "y_test = sea_level_df_test['level_variation']\n",
    "X_test = sm.add_constant(X_test)\n",
    "\n",
    "\n",
    "sum = 0\n",
    "num = 5\n",
    "n = len(y_test)\n",
    "for i in range(0, len(y_test)-(num-1)):\n",
    "    for j in range(0, num-1):\n",
    "        sum += y_test[i+j]\n",
    "    y_test[i] = sum/num\n",
    "    sum = 0\n",
    "\n",
    "for i in range(0, num-1):\n",
    "    y_test[n - 1- i] = 0\n",
    "    \n",
    "ols_model = LinearRegression()\n",
    "ols_model.fit(X_train, y_train)\n",
    "coeffs = ols_model.coef_\n",
    "\n",
    "%pylab inline\n",
    "X_prime = np.linspace(X_train.time.min(), X_train.time.max(), 100)[:, np.newaxis]\n",
    "X_prime = sm.add_constant(X_prime)\n",
    "y_hat = ols_model.predict(X_prime)\n",
    "plt.plot(X_train.time, y_train, alpha=0.3)\n",
    "\n",
    "plt.xlabel(\"Time\")\n",
    "plt.ylabel(\"Level Variation\")\n",
    "plt.title(\"Sea Level Variation\")\n",
    "plt.plot(X_prime[:, 1], y_hat, 'y', alpha=0.9)\n",
    "\n",
    "mse = mean_squared_error(y_pred=ols_model.predict(X_test),\n",
    "                        y_true=y_test)\n",
    "\n",
    "print(mse)    \n",
    "\n",
    "# Repeat parts a and b for rolling mean"
   ]
  },
  {
   "cell_type": "code",
   "execution_count": 102,
   "metadata": {},
   "outputs": [
    {
     "name": "stderr",
     "output_type": "stream",
     "text": [
      "/Library/Frameworks/Python.framework/Versions/3.6/lib/python3.6/site-packages/numpy/core/fromnumeric.py:2389: FutureWarning: Method .ptp is deprecated and will be removed in a future version. Use numpy.ptp instead.\n",
      "  return ptp(axis=axis, out=out, **kwargs)\n"
     ]
    },
    {
     "name": "stdout",
     "output_type": "stream",
     "text": [
      "Populating the interactive namespace from numpy and matplotlib\n",
      "111.1534139928095\n"
     ]
    },
    {
     "name": "stderr",
     "output_type": "stream",
     "text": [
      "/Library/Frameworks/Python.framework/Versions/3.6/lib/python3.6/site-packages/IPython/core/magics/pylab.py:160: UserWarning: pylab import has clobbered these variables: ['sum']\n",
      "`%matplotlib` prevents importing * from pylab and numpy\n",
      "  \"\\n`%matplotlib` prevents importing * from pylab and numpy\"\n"
     ]
    },
    {
     "data": {
      "image/png": "[encoded data removed]",
      "text/plain": [
       "<Figure size 432x288 with 1 Axes>"
      ]
     },
     "metadata": {
      "needs_background": "light"
     },
     "output_type": "display_data"
    }
   ],
   "source": [
    "# Part c - data transformations #\n",
    "# ROLLING MEAN\n",
    "# Window = 7\n",
    "sea_level_df = pd.read_csv(\"sealevel_train.csv\")\n",
    "sea_level_df_test = pd.read_csv(\"sealevel_test.csv\")\n",
    "\n",
    "X_train = sea_level_df['time']\n",
    "y_train = sea_level_df['level_variation']\n",
    "\n",
    "X_train = sm.add_constant(X_train)\n",
    "\n",
    "\n",
    "\n",
    "X_test= sea_level_df_test['time']\n",
    "y_test = sea_level_df_test['level_variation']\n",
    "X_test = sm.add_constant(X_test)\n",
    "\n",
    "#y_train.rolling(window = 5, center = True).mean()\n",
    "\n",
    "sum = 0\n",
    "num = 7\n",
    "n = len(y_train)\n",
    "for i in range(0, len(y_train)-(num-1)):\n",
    "    for j in range(0, num-1):\n",
    "        sum += y_train[i+j]\n",
    "    y_train[i] = sum/num\n",
    "    sum = 0\n",
    "\n",
    "for i in range(0, num-1):\n",
    "    y_train[n - 1 - i] = 0\n",
    "    \n",
    "sea_level_df = pd.read_csv(\"sealevel_train.csv\")\n",
    "sea_level_df_test = pd.read_csv(\"sealevel_test.csv\")\n",
    "\n",
    "X_test= sea_level_df_test['time']\n",
    "y_test = sea_level_df_test['level_variation']\n",
    "X_test = sm.add_constant(X_test)\n",
    "\n",
    "\n",
    "sum = 0\n",
    "num = 7\n",
    "n = len(y_test)\n",
    "for i in range(0, len(y_test)-(num-1)):\n",
    "    for j in range(0, num-1):\n",
    "        sum += y_test[i+j]\n",
    "    y_test[i] = sum/num\n",
    "    sum = 0\n",
    "\n",
    "for i in range(0, num-1):\n",
    "    y_test[n - 1- i] = 0\n",
    "    \n",
    "ols_model = LinearRegression()\n",
    "ols_model.fit(X_train, y_train)\n",
    "coeffs = ols_model.coef_\n",
    "\n",
    "%pylab inline\n",
    "X_prime = np.linspace(X_train.time.min(), X_train.time.max(), 100)[:, np.newaxis]\n",
    "X_prime = sm.add_constant(X_prime)\n",
    "y_hat = ols_model.predict(X_prime)\n",
    "plt.plot(X_train.time, y_train, alpha=0.3)\n",
    "\n",
    "plt.xlabel(\"Time\")\n",
    "plt.ylabel(\"Level Variation\")\n",
    "plt.title(\"Sea Level Variation\")\n",
    "plt.plot(X_prime[:, 1], y_hat, 'y', alpha=0.9)\n",
    "\n",
    "mse = mean_squared_error(y_pred=ols_model.predict(X_test),\n",
    "                        y_true=y_test)\n",
    "\n",
    "print(mse)    \n",
    "\n",
    "# Repeat parts a and b for rolling mean\n"
   ]
  },
  {
   "cell_type": "code",
   "execution_count": 103,
   "metadata": {},
   "outputs": [
    {
     "name": "stderr",
     "output_type": "stream",
     "text": [
      "/Library/Frameworks/Python.framework/Versions/3.6/lib/python3.6/site-packages/numpy/core/fromnumeric.py:2389: FutureWarning: Method .ptp is deprecated and will be removed in a future version. Use numpy.ptp instead.\n",
      "  return ptp(axis=axis, out=out, **kwargs)\n"
     ]
    },
    {
     "name": "stdout",
     "output_type": "stream",
     "text": [
      "Populating the interactive namespace from numpy and matplotlib\n",
      "196.63407135902952\n"
     ]
    },
    {
     "name": "stderr",
     "output_type": "stream",
     "text": [
      "/Library/Frameworks/Python.framework/Versions/3.6/lib/python3.6/site-packages/IPython/core/magics/pylab.py:160: UserWarning: pylab import has clobbered these variables: ['sum']\n",
      "`%matplotlib` prevents importing * from pylab and numpy\n",
      "  \"\\n`%matplotlib` prevents importing * from pylab and numpy\"\n"
     ]
    },
    {
     "data": {
      "image/png": "[encoded data removed]",
      "text/plain": [
       "<Figure size 432x288 with 1 Axes>"
      ]
     },
     "metadata": {
      "needs_background": "light"
     },
     "output_type": "display_data"
    }
   ],
   "source": [
    "# Part c - data transformations #\n",
    "# ROLLING MEAN\n",
    "# Window = 15\n",
    "sea_level_df = pd.read_csv(\"sealevel_train.csv\")\n",
    "sea_level_df_test = pd.read_csv(\"sealevel_test.csv\")\n",
    "\n",
    "X_train = sea_level_df['time']\n",
    "y_train = sea_level_df['level_variation']\n",
    "\n",
    "X_train = sm.add_constant(X_train)\n",
    "\n",
    "\n",
    "\n",
    "X_test= sea_level_df_test['time']\n",
    "y_test = sea_level_df_test['level_variation']\n",
    "X_test = sm.add_constant(X_test)\n",
    "\n",
    "#y_train.rolling(window = 5, center = True).mean()\n",
    "\n",
    "sum = 0\n",
    "num = 15\n",
    "n = len(y_train)\n",
    "for i in range(0, len(y_train)-(num-1)):\n",
    "    for j in range(0, num-1):\n",
    "        sum += y_train[i+j]\n",
    "    y_train[i] = sum/num\n",
    "    sum = 0\n",
    "\n",
    "for i in range(0, num-1):\n",
    "    y_train[n - 1 - i] = 0\n",
    "    \n",
    "sea_level_df = pd.read_csv(\"sealevel_train.csv\")\n",
    "sea_level_df_test = pd.read_csv(\"sealevel_test.csv\")\n",
    "\n",
    "X_test= sea_level_df_test['time']\n",
    "y_test = sea_level_df_test['level_variation']\n",
    "X_test = sm.add_constant(X_test)\n",
    "\n",
    "\n",
    "sum = 0\n",
    "num = 15\n",
    "n = len(y_test)\n",
    "for i in range(0, len(y_test)-(num-1)):\n",
    "    for j in range(0, num-1):\n",
    "        sum += y_test[i+j]\n",
    "    y_test[i] = sum/num\n",
    "    sum = 0\n",
    "\n",
    "for i in range(0, num-1):\n",
    "    y_test[n - 1- i] = 0\n",
    "    \n",
    "ols_model = LinearRegression()\n",
    "ols_model.fit(X_train, y_train)\n",
    "coeffs = ols_model.coef_\n",
    "\n",
    "%pylab inline\n",
    "X_prime = np.linspace(X_train.time.min(), X_train.time.max(), 100)[:, np.newaxis]\n",
    "X_prime = sm.add_constant(X_prime)\n",
    "y_hat = ols_model.predict(X_prime)\n",
    "plt.plot(X_train.time, y_train, alpha=0.3)\n",
    "\n",
    "plt.xlabel(\"Time\")\n",
    "plt.ylabel(\"Level Variation\")\n",
    "plt.title(\"Sea Level Variation\")\n",
    "plt.plot(X_prime[:, 1], y_hat, 'y', alpha=0.9)\n",
    "\n",
    "mse = mean_squared_error(y_pred=ols_model.predict(X_test),\n",
    "                        y_true=y_test)\n",
    "\n",
    "print(mse)    \n",
    "\n",
    "# Repeat parts a and b for rolling mean"
   ]
  },
  {
   "cell_type": "code",
   "execution_count": 144,
   "metadata": {},
   "outputs": [
    {
     "name": "stderr",
     "output_type": "stream",
     "text": [
      "/Library/Frameworks/Python.framework/Versions/3.6/lib/python3.6/site-packages/numpy/core/fromnumeric.py:2389: FutureWarning: Method .ptp is deprecated and will be removed in a future version. Use numpy.ptp instead.\n",
      "  return ptp(axis=axis, out=out, **kwargs)\n"
     ]
    },
    {
     "name": "stdout",
     "output_type": "stream",
     "text": [
      "Populating the interactive namespace from numpy and matplotlib\n",
      "0.16652731586159053\n"
     ]
    },
    {
     "data": {
      "image/png": "[encoded data removed]",
      "text/plain": [
       "<Figure size 432x288 with 1 Axes>"
      ]
     },
     "metadata": {
      "needs_background": "light"
     },
     "output_type": "display_data"
    }
   ],
   "source": [
    "# Part c - data transformations #\n",
    "# FIRST ORDER DIFFERENCING\n",
    "sea_level_df = pd.read_csv(\"sealevel_train.csv\")\n",
    "sea_level_df_test = pd.read_csv(\"sealevel_test.csv\")\n",
    "\n",
    "X_train = sea_level_df['time']\n",
    "y_train = sea_level_df['level_variation']\n",
    "\n",
    "X_train = sm.add_constant(X_train)\n",
    "\n",
    "\n",
    "X_test= sea_level_df_test['time']\n",
    "y_test = sea_level_df_test['level_variation']\n",
    "X_test = sm.add_constant(X_test)\n",
    "# Predict using OLS model\n",
    "\n",
    "y_train = np.diff(y_train)\n",
    "y_test = np.diff(y_test)\n",
    "\n",
    "X_train = X_train.iloc[1:]\n",
    "X_test = X_test.iloc[1:]\n",
    "ols_model = LinearRegression()\n",
    "ols_model.fit(X_train, y_train)\n",
    "coeffs = ols_model.coef_\n",
    "\n",
    "%pylab inline\n",
    "X_prime = np.linspace(X_train.time.min(), X_train.time.max(), 100)[:, np.newaxis]\n",
    "X_prime = sm.add_constant(X_prime)\n",
    "y_hat = ols_model.predict(X_prime)\n",
    "plt.plot(X_train.time, y_train, alpha=0.3)\n",
    "\n",
    "plt.xlabel(\"Time\")\n",
    "plt.ylabel(\"Level Variation\")\n",
    "plt.title(\"Sea Level Variation\")\n",
    "plt.plot(X_prime[:, 1], y_hat, 'y', alpha=0.9)\n",
    "\n",
    "\n",
    "mse = mean_squared_error(y_pred=ols_model.predict(X_test),\n",
    "                        y_true=y_test)\n",
    "\n",
    "print(mse)\n",
    "\n",
    "\n",
    "\n",
    "# Repeat parts a and b for first order differencing"
   ]
  },
  {
   "cell_type": "code",
   "execution_count": 99,
   "metadata": {},
   "outputs": [
    {
     "name": "stderr",
     "output_type": "stream",
     "text": [
      "/Library/Frameworks/Python.framework/Versions/3.6/lib/python3.6/site-packages/numpy/core/fromnumeric.py:2389: FutureWarning: Method .ptp is deprecated and will be removed in a future version. Use numpy.ptp instead.\n",
      "  return ptp(axis=axis, out=out, **kwargs)\n"
     ]
    },
    {
     "name": "stdout",
     "output_type": "stream",
     "text": [
      "Populating the interactive namespace from numpy and matplotlib\n",
      "0.002621184175035534\n"
     ]
    },
    {
     "data": {
      "image/png": "[encoded data removed]",
      "text/plain": [
       "<Figure size 432x288 with 1 Axes>"
      ]
     },
     "metadata": {
      "needs_background": "light"
     },
     "output_type": "display_data"
    }
   ],
   "source": [
    "# Part c - data transformations #\n",
    "# YOUR OWN TRANSFORMATION\n",
    "\n",
    "sea_level_df = pd.read_csv(\"sealevel_train.csv\")\n",
    "sea_level_df_test = pd.read_csv(\"sealevel_test.csv\")\n",
    "\n",
    "X_train = sea_level_df['time']\n",
    "y_train = sea_level_df['level_variation']\n",
    "X_train = sm.add_constant(X_train)\n",
    "\n",
    "\n",
    "X_test= sea_level_df_test['time']\n",
    "y_test = sea_level_df_test['level_variation']\n",
    "X_test = sm.add_constant(X_test)\n",
    "\n",
    "\n",
    "y_train = 1/y_train\n",
    "y_test = 1/y_test\n",
    "\n",
    "ols_model = LinearRegression()\n",
    "ols_model.fit(X_train, y_train)\n",
    "coeffs = ols_model.coef_\n",
    "\n",
    "%pylab inline\n",
    "X_prime = np.linspace(X_train.time.min(), X_train.time.max(), 100)[:, np.newaxis]\n",
    "X_prime = sm.add_constant(X_prime)\n",
    "y_hat = ols_model.predict(X_prime)\n",
    "plt.plot(X_train.time, y_train, alpha=0.3)\n",
    "\n",
    "plt.xlabel(\"Time\")\n",
    "plt.ylabel(\"Level Variation\")\n",
    "plt.title(\"Sea Level Variation\")\n",
    "plt.plot(X_prime[:, 1], y_hat, 'y', alpha=0.9)\n",
    "\n",
    "\n",
    "\n",
    "mse = mean_squared_error(y_pred=ols_model.predict(X_test),\n",
    "                        y_true=y_test)\n",
    "\n",
    "print(mse)\n",
    "\n",
    "# Repeat parts a and b for your own transformation"
   ]
  },
  {
   "cell_type": "markdown",
   "metadata": {},
   "source": [
    "## Problem 2: K-Nearest Neighbors\n",
    "\n",
    "Consider the following five two-dimensional training points, belonging to class + or class -:\n",
    "\n",
    "$(0,1,+)$\n",
    "\n",
    "$(1,1,-)$\n",
    "\n",
    "$(2,2,+)$\n",
    "\n",
    "$(2,0,+)$\n",
    "\n",
    "$(3,1,-)$\n",
    "\n",
    "**a.** Plot these five points. Then, draw the decision boundary for a **1-nearest-neighbor classifier (with Euclidean distance).** *Be sure to show or explain how you found your decision boundary.*\n",
    "\n",
    "**b.** Classify the following test points, and add them to your plot:\n",
    "\n",
    "$(0,0)$\n",
    "\n",
    "$(1,2)$\n",
    "\n",
    "$(2,1)$\n",
    "\n",
    "$(3,3)$\n",
    "\n",
    "$(4,3)$\n",
    "\n",
    "*Be sure to explain how you classified the test points.*\n",
    "\n",
    "**c.** As you may or may not have seen in part b, it is possible for two neighbors with different class labels to have identical distances to a test point. In that case, explain how to choose a class for this point."
   ]
  },
  {
   "cell_type": "markdown",
   "metadata": {},
   "source": [
    "**`[double click here to add a solution]`**\n",
    "\n",
    "Inside submitted zipped folder. \n"
   ]
  },
  {
   "cell_type": "markdown",
   "metadata": {},
   "source": [
    "## Problem 3: Nearest Neighbors vs. Decision Trees\n",
    "\n",
    "Not all machine learning algorithms perform well on all types of data; performance is often dependent on how the data is distributed. We ask you to compare the performance accuracies of k-nearest neighbors and decision trees on two datasets: the Iris dataset and the wine dataset.\n",
    "\n",
    "The Iris flower dataset contains samples of attributes of 3 different variations of Iris flowers. This dataset has become very commonly used in training classification models. In fact, it has become so common that it exists within scikit-learn. The wine dataset contains attributes of 3 different types of wine. The datasets are imported and split into training and testing sets below for you. You can also get a preview of what they look like by running the two cells below.\n",
    "\n",
    "**a.** Using the `KNeighborsClassifier` and `DecisionTreeClassifier` from scikit-learn, train and test k-nearest neighbors and decision trees on both datasets. When training the k-nearest neighbor algorithm, **do not choose a random number of neighbors, but instead *find the k that achieves the best accuracy in the range 1-10***. Compute the accuracies of each method (hint: you can use scikit-learn's `metrics.accuracy_score`).\n",
    "\n",
    "**b.** Compare the accuracies of each algorithm on each dataset. **If there is a difference in their performance, why do you think this would be?**\n",
    "\n",
    "*Please note that since sampling of data is random, accuracies may differ when you run the code again, and they will differ among your peers.*"
   ]
  },
  {
   "cell_type": "code",
   "execution_count": 151,
   "metadata": {},
   "outputs": [
    {
     "data": {
      "text/html": [
       "<div>\n",
       "<style scoped>\n",
       "    .dataframe tbody tr th:only-of-type {\n",
       "        vertical-align: middle;\n",
       "    }\n",
       "\n",
       "    .dataframe tbody tr th {\n",
       "        vertical-align: top;\n",
       "    }\n",
       "\n",
       "    .dataframe thead th {\n",
       "        text-align: right;\n",
       "    }\n",
       "</style>\n",
       "<table border=\"1\" class=\"dataframe\">\n",
       "  <thead>\n",
       "    <tr style=\"text-align: right;\">\n",
       "      <th></th>\n",
       "      <th>sepal length (cm)</th>\n",
       "      <th>sepal width (cm)</th>\n",
       "      <th>petal length (cm)</th>\n",
       "      <th>petal width (cm)</th>\n",
       "    </tr>\n",
       "  </thead>\n",
       "  <tbody>\n",
       "    <tr>\n",
       "      <th>0</th>\n",
       "      <td>5.1</td>\n",
       "      <td>3.5</td>\n",
       "      <td>1.4</td>\n",
       "      <td>0.2</td>\n",
       "    </tr>\n",
       "    <tr>\n",
       "      <th>1</th>\n",
       "      <td>4.9</td>\n",
       "      <td>3.0</td>\n",
       "      <td>1.4</td>\n",
       "      <td>0.2</td>\n",
       "    </tr>\n",
       "    <tr>\n",
       "      <th>2</th>\n",
       "      <td>4.7</td>\n",
       "      <td>3.2</td>\n",
       "      <td>1.3</td>\n",
       "      <td>0.2</td>\n",
       "    </tr>\n",
       "    <tr>\n",
       "      <th>3</th>\n",
       "      <td>4.6</td>\n",
       "      <td>3.1</td>\n",
       "      <td>1.5</td>\n",
       "      <td>0.2</td>\n",
       "    </tr>\n",
       "    <tr>\n",
       "      <th>4</th>\n",
       "      <td>5.0</td>\n",
       "      <td>3.6</td>\n",
       "      <td>1.4</td>\n",
       "      <td>0.2</td>\n",
       "    </tr>\n",
       "  </tbody>\n",
       "</table>\n",
       "</div>"
      ],
      "text/plain": [
       "   sepal length (cm)  sepal width (cm)  petal length (cm)  petal width (cm)\n",
       "0                5.1               3.5                1.4               0.2\n",
       "1                4.9               3.0                1.4               0.2\n",
       "2                4.7               3.2                1.3               0.2\n",
       "3                4.6               3.1                1.5               0.2\n",
       "4                5.0               3.6                1.4               0.2"
      ]
     },
     "execution_count": 151,
     "metadata": {},
     "output_type": "execute_result"
    }
   ],
   "source": [
    "# Import Iris dataset from scikit-learn, as well as algorithms\n",
    "from sklearn.datasets import load_iris\n",
    "from sklearn.model_selection import train_test_split\n",
    "from sklearn import metrics\n",
    "\n",
    "from sklearn.neighbors import KNeighborsClassifier\n",
    "from sklearn import tree\n",
    "\n",
    "# Load Iris dataset\n",
    "iris = load_iris()\n",
    "iris_df = pd.DataFrame(iris.data, columns = iris.feature_names)\n",
    "\n",
    "# Split data into training and testing sets\n",
    "X = iris.data\n",
    "y = iris.target\n",
    "\n",
    "X_iris_train, X_iris_test, y_iris_train, y_iris_test = train_test_split(X, y, test_size = 0.3) # here, our test set is 30% of whole set\n",
    "\n",
    "# Show what Iris data looks like\n",
    "iris_df.head()\n"
   ]
  },
  {
   "cell_type": "code",
   "execution_count": 150,
   "metadata": {},
   "outputs": [
    {
     "data": {
      "text/html": [
       "<div>\n",
       "<style scoped>\n",
       "    .dataframe tbody tr th:only-of-type {\n",
       "        vertical-align: middle;\n",
       "    }\n",
       "\n",
       "    .dataframe tbody tr th {\n",
       "        vertical-align: top;\n",
       "    }\n",
       "\n",
       "    .dataframe thead th {\n",
       "        text-align: right;\n",
       "    }\n",
       "</style>\n",
       "<table border=\"1\" class=\"dataframe\">\n",
       "  <thead>\n",
       "    <tr style=\"text-align: right;\">\n",
       "      <th></th>\n",
       "      <th>alc</th>\n",
       "      <th>malic acid</th>\n",
       "      <th>ash</th>\n",
       "      <th>alcalinity</th>\n",
       "      <th>mg</th>\n",
       "      <th>phenols</th>\n",
       "      <th>flavanoid</th>\n",
       "      <th>nonflav phenols</th>\n",
       "      <th>proanth</th>\n",
       "      <th>color</th>\n",
       "      <th>hue</th>\n",
       "      <th>OD280/OD315</th>\n",
       "      <th>proline</th>\n",
       "    </tr>\n",
       "  </thead>\n",
       "  <tbody>\n",
       "    <tr>\n",
       "      <th>0</th>\n",
       "      <td>14.23</td>\n",
       "      <td>1.71</td>\n",
       "      <td>2.43</td>\n",
       "      <td>15.6</td>\n",
       "      <td>127</td>\n",
       "      <td>2.80</td>\n",
       "      <td>3.06</td>\n",
       "      <td>0.28</td>\n",
       "      <td>2.29</td>\n",
       "      <td>5.64</td>\n",
       "      <td>1.04</td>\n",
       "      <td>3.92</td>\n",
       "      <td>1065</td>\n",
       "    </tr>\n",
       "    <tr>\n",
       "      <th>1</th>\n",
       "      <td>13.20</td>\n",
       "      <td>1.78</td>\n",
       "      <td>2.14</td>\n",
       "      <td>11.2</td>\n",
       "      <td>100</td>\n",
       "      <td>2.65</td>\n",
       "      <td>2.76</td>\n",
       "      <td>0.26</td>\n",
       "      <td>1.28</td>\n",
       "      <td>4.38</td>\n",
       "      <td>1.05</td>\n",
       "      <td>3.40</td>\n",
       "      <td>1050</td>\n",
       "    </tr>\n",
       "    <tr>\n",
       "      <th>2</th>\n",
       "      <td>13.16</td>\n",
       "      <td>2.36</td>\n",
       "      <td>2.67</td>\n",
       "      <td>18.6</td>\n",
       "      <td>101</td>\n",
       "      <td>2.80</td>\n",
       "      <td>3.24</td>\n",
       "      <td>0.30</td>\n",
       "      <td>2.81</td>\n",
       "      <td>5.68</td>\n",
       "      <td>1.03</td>\n",
       "      <td>3.17</td>\n",
       "      <td>1185</td>\n",
       "    </tr>\n",
       "    <tr>\n",
       "      <th>3</th>\n",
       "      <td>14.37</td>\n",
       "      <td>1.95</td>\n",
       "      <td>2.50</td>\n",
       "      <td>16.8</td>\n",
       "      <td>113</td>\n",
       "      <td>3.85</td>\n",
       "      <td>3.49</td>\n",
       "      <td>0.24</td>\n",
       "      <td>2.18</td>\n",
       "      <td>7.80</td>\n",
       "      <td>0.86</td>\n",
       "      <td>3.45</td>\n",
       "      <td>1480</td>\n",
       "    </tr>\n",
       "    <tr>\n",
       "      <th>4</th>\n",
       "      <td>13.24</td>\n",
       "      <td>2.59</td>\n",
       "      <td>2.87</td>\n",
       "      <td>21.0</td>\n",
       "      <td>118</td>\n",
       "      <td>2.80</td>\n",
       "      <td>2.69</td>\n",
       "      <td>0.39</td>\n",
       "      <td>1.82</td>\n",
       "      <td>4.32</td>\n",
       "      <td>1.04</td>\n",
       "      <td>2.93</td>\n",
       "      <td>735</td>\n",
       "    </tr>\n",
       "  </tbody>\n",
       "</table>\n",
       "</div>"
      ],
      "text/plain": [
       "     alc  malic acid   ash  alcalinity   mg  phenols  flavanoid  \\\n",
       "0  14.23        1.71  2.43        15.6  127     2.80       3.06   \n",
       "1  13.20        1.78  2.14        11.2  100     2.65       2.76   \n",
       "2  13.16        2.36  2.67        18.6  101     2.80       3.24   \n",
       "3  14.37        1.95  2.50        16.8  113     3.85       3.49   \n",
       "4  13.24        2.59  2.87        21.0  118     2.80       2.69   \n",
       "\n",
       "   nonflav phenols  proanth  color   hue  OD280/OD315  proline  \n",
       "0             0.28     2.29   5.64  1.04         3.92     1065  \n",
       "1             0.26     1.28   4.38  1.05         3.40     1050  \n",
       "2             0.30     2.81   5.68  1.03         3.17     1185  \n",
       "3             0.24     2.18   7.80  0.86         3.45     1480  \n",
       "4             0.39     1.82   4.32  1.04         2.93      735  "
      ]
     },
     "execution_count": 150,
     "metadata": {},
     "output_type": "execute_result"
    }
   ],
   "source": [
    "# Load wine dataset\n",
    "wine_df = pd.read_csv(\"wine.csv\", names = [\"class\", \"alc\", \"malic acid\", \"ash\", \"alcalinity\", \"mg\", \"phenols\", \"flavanoid\", \"nonflav phenols\", \"proanth\", \"color\", \"hue\", \"OD280/OD315\", \"proline\"])\n",
    "\n",
    "# Split dataset into train and test sets\n",
    "X = wine_df\n",
    "y = wine_df.pop('class')\n",
    "\n",
    "X_wine_train, X_wine_test, y_wine_train, y_wine_test = train_test_split(X, y, test_size = 0.3)\n",
    "\n",
    "# Show what wine dataset looks like\n",
    "wine_df.head()"
   ]
  },
  {
   "cell_type": "code",
   "execution_count": 155,
   "metadata": {},
   "outputs": [
    {
     "name": "stdout",
     "output_type": "stream",
     "text": [
      "0.9333333333333333\n",
      "0.9333333333333333\n",
      "0.9333333333333333\n",
      "0.9333333333333333\n",
      "0.9555555555555556\n",
      "0.9777777777777777\n",
      "0.9555555555555556\n",
      "0.9777777777777777\n",
      "0.9555555555555556\n",
      "0.9555555555555556\n",
      "The k which achieves best accuracy is: 6\n",
      "The accuracy using decision tree is: 0.9333333333333333\n"
     ]
    }
   ],
   "source": [
    "# IRIS DATASET #\n",
    "\n",
    "# Construct the nearest neighbors classifier.\n",
    "# Fit the model to the data, and find the k which achieves the best accuracy in the range 1-10.\n",
    "# Test KNN with testing set\n",
    "\n",
    "# Construct a decision tree on the training data.\n",
    "# Test decision tree with testing set\n",
    "\n",
    "# Compare accuracies between the two algorithms (print them out)\n",
    "from sklearn.metrics import accuracy_score\n",
    "\n",
    "\n",
    "maxi = 0\n",
    "index = 0\n",
    "for i in range(1, 11):  \n",
    "    knn = KNeighborsClassifier(n_neighbors=i)\n",
    "    knn.fit(X_iris_train, y_iris_train)\n",
    "    pred_i = knn.predict(X_iris_test)\n",
    "    y = accuracy_score(y_iris_test, pred_i)\n",
    "    print(y)\n",
    "    if(y>maxi):\n",
    "        maxi = y\n",
    "        index = i\n",
    "\n",
    "print(\"The k which achieves best accuracy is:\", index)\n",
    "\n",
    "\n",
    "from sklearn.tree import DecisionTreeClassifier \n",
    "\n",
    "clf = DecisionTreeClassifier()\n",
    "clf = clf.fit(X_iris_train,y_iris_train)\n",
    "y_pred = clf.predict(X_iris_test)\n",
    "decacc = accuracy_score(y_iris_test, y_pred)\n",
    "print(\"The accuracy using decision tree is:\",decacc)\n"
   ]
  },
  {
   "cell_type": "code",
   "execution_count": 152,
   "metadata": {},
   "outputs": [
    {
     "name": "stdout",
     "output_type": "stream",
     "text": [
      "0.6666666666666666\n",
      "0.6296296296296297\n",
      "0.6296296296296297\n",
      "0.6111111111111112\n",
      "0.6666666666666666\n",
      "0.6851851851851852\n",
      "0.6851851851851852\n",
      "0.7037037037037037\n",
      "0.6851851851851852\n",
      "0.7037037037037037\n",
      "The k which achieves best accuracy is: 8\n",
      "The accuracy using decision tree is: 0.9259259259259259\n"
     ]
    }
   ],
   "source": [
    "# WINE DATASET #\n",
    "\n",
    "# Construct the nearest neighbors classifier.\n",
    "# Fit the model to the data, and find the k which achieves the best accuracy in the range 1-10.\n",
    "# Test KNN with testing set\n",
    "\n",
    "# Construct a decision tree on the training data\n",
    "# Test decision tree with testing set\n",
    "\n",
    "# Compare accuracies between the two algorithms (print them out)\n",
    "\n",
    "\n",
    "maxi = 0\n",
    "index = 0\n",
    "for i in range(1, 11):  \n",
    "    knn = KNeighborsClassifier(n_neighbors=i)\n",
    "    knn.fit(X_wine_train, y_wine_train)\n",
    "    pred_i = knn.predict(X_wine_test)\n",
    "    y = accuracy_score(y_wine_test, pred_i)\n",
    "    print(y)\n",
    "    if(y>maxi):\n",
    "        maxi = y\n",
    "        index = i\n",
    "\n",
    "        \n",
    "print(\"The k which achieves best accuracy is:\",index)\n",
    "\n",
    "\n",
    "from sklearn.tree import DecisionTreeClassifier \n",
    "\n",
    "clf = DecisionTreeClassifier()\n",
    "clf = clf.fit(X_wine_train,y_wine_train)\n",
    "y_pred = clf.predict(X_wine_test)\n",
    "decacc = accuracy_score(y_wine_test, y_pred)\n",
    "print(\"The accuracy using decision tree is:\",decacc)\n",
    "\n"
   ]
  },
  {
   "cell_type": "markdown",
   "metadata": {},
   "source": [
    "**`[double click here to add a solution to part b]`**\n",
    "\n",
    "b) For the iris dataset it can be seen that the knn classifier is more effective than the decision tree, since the knn classifier has a greater accuracy score. However for the wine dataset, the decision tree classifier has a higher accuracy score. The difference betwen knn and decision trees is that knn is better for identifying neighbourhoods in which certain points fall, whereas decision trees are better for classifying classes. Overall Knn is supposed to have lower error rates than the decision tree classifier. Moreover, knn is more fit for datasets where all the features are numeric, and decision trees for where you have a mix of both numeric and nominal features.In the case of the iris dataset, all features are numeric, whereas in the wine dataset, there is numeric as well as nominal (for e.g.proline). This would explain the reason why the decision tree classifier performs better than knn for the wine dataset. Furthermore, decision tree and knn classifiers are different in that decision trees tend to be 'eager learners', whereas knn classifiers are 'lazy learners', since it does not build a classificiation model until test data is given to it. This instance based learning for knn leads to complex decision boundaries, especially when many features are given as input, and as a result, this would have led to greater overfitting in the case of the wine dataset, leading to lower accuracies than the decision tree model. The overall accuracies might be lower for the wine dataset, since a greater number of features used as input, might have led to overfitting for both decision and knn classifiers. "
   ]
  },
  {
   "cell_type": "markdown",
   "metadata": {},
   "source": [
    "## Problem 4: Curse of Dimensionality and Nearest Neighbors\n",
    "\n",
    "**Please note that you may find it easier to program this question in MATLAB. If you choose to use MATLAB, please submit a separate .m file with your code solution and either insert your plots into Jupyter (or, submit a separate document with the plots through Blackboard).**\n",
    "\n",
    "Consider $n$ data points uniformly distributed in a $p$-dimensional unit ball centered at the origin, and suppose we are interested in nearest neighbors to the origin. It can be shown that the median distance from the origin to the closest data point under this scenario is given by the expression $(1-(\\frac{1}{2})^{\\frac{1}{n}})^{\\frac{1}{p}}$. \n",
    "\n",
    "Now consider the following alternative scenario. Suppose $n$ data points are chosen uniformly\n",
    "from $[−1, 1]^p$ (the interval $[−1, 1]$ in p dimensions). Now consider the nearest neighbor to a point at the origin in terms of the $l_∞$ norm: $\\|x − y\\|_∞ = max_i|x_i − y_i|$.\n",
    "\n",
    "**a.** Write a piece of code that generates $n$ data points in $p$ dimensions distributed uniformly\n",
    "in $[−1, 1]^p$, and computes the $l_∞$ nearest neighbors to the origin. For $n = 5$, $n = 50$, and $n = 500$, plot the nearest neighbor distances as a function of $p$, for $p = 1$ to $200$. On the same plot(s), also show the curves corresponding to the median distance expression given above.\n",
    "\n",
    "**b.** What do you observe about the relationship between the formula and the $l_∞$ nearest neighbor distances? *Discuss and interpret all of your plots.*\n",
    "\n",
    "**c. *Bonus*** Prove a relationship between the ∞ nearest neighbor distances and the above formula."
   ]
  },
  {
   "cell_type": "code",
   "execution_count": 13,
   "metadata": {},
   "outputs": [],
   "source": [
    "# Plot n p-dimensional uniformly-distributed data points\n",
    "\n",
    "\n",
    "# Compute nearest neighbors to the origin in terms of maximum norm\n",
    "\n",
    "\n",
    "# Plot nearest neighbor distances as a function of p = 1:200 for n = 5, 50, 500. Plot curves \n",
    "# corresponding to the median distance expression on the same figure."
   ]
  },
  {
   "cell_type": "markdown",
   "metadata": {},
   "source": [
    "**`[double click here to add plots, if you programmed your solution outside Jupyter]`**\n",
    "\n",
    "<img src=\"N=5.png\">\n",
    "<img src=\"N=50.png\">\n",
    "<img src=\"N=500.png\">"
   ]
  },
  {
   "cell_type": "markdown",
   "metadata": {},
   "source": [
    "Part b) - It can be noticed with all three plots that as the dimension increases, the further the nearest neighbour distance tends toward the surface of the unit ball, i.e. 1, in a logarithmic manner. For a fewer number of data points, as in the instance of N =5, can be seen to lead to all of the nearest neighbours after about the 5th dimension to have a distance of 1. This is because there is a smaller choice of points from which the nearest neighbour is selected. However, as the number of points increases, to N = 500 for example, it can be seen that all the nearest neighbours are lower than 1 for all the dimensions. This is because a greater number of points would imply a greater chance of outliers. However there is still an upward trend where as the dimensions increase, the nearest neighbours get closer to the surface of the unit ball. For N = 50, although not all distances are below 1,most of the nearest neighbour distances unlike for N=5 are not touching the surface.  It can be seen that the line graph of median distance drawn by using the expression given, also follows the general trend, however this line seems to be below certain nearest neighbour distances for the N= 5 and N = 50 graphs. This is a surprising result, since the nearest neighbour distances are theoretically supposed to be below the median. This rule is however followed for the N = 500 graph. This may again be the case owing to a greater sample of points to choose the nearest neighbour distance from.   "
   ]
  }
 ],
 "metadata": {
  "kernelspec": {
   "display_name": "Python 3",
   "language": "python",
   "name": "python3"
  },
  "language_info": {
   "codemirror_mode": {
    "name": "ipython",
    "version": 3
   },
   "file_extension": ".py",
   "mimetype": "text/x-python",
   "name": "python",
   "nbconvert_exporter": "python",
   "pygments_lexer": "ipython3",
   "version": "3.6.1"
  }
 },
 "nbformat": 4,
 "nbformat_minor": 2
}
