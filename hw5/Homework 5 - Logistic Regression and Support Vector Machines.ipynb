{
 "cells": [
  {
   "cell_type": "markdown",
   "metadata": {},
   "source": [
    "# Homework 5: Logistic Regression and Support Vector Machines\n",
    "\n",
    "by Natalia Frumkin and Karanraj Chauhan with help from B. Kulis, R. Manzelli, and A. Tsiligkardis"
   ]
  },
  {
   "cell_type": "markdown",
   "metadata": {},
   "source": [
    "## Problem 1: SVM Toy Example\n",
    "\n",
    "Given the following two-class data set:\n",
    "\n",
    "**Class -1: **\n",
    "A = (1,1)\n",
    "B = (2,3)\n",
    "\n",
    "**Class +1: **\n",
    "C = (2,5)\n",
    "D = (4,2)\n",
    "\n",
    "<ol type=\"a\">\n",
    "  <li>Plot the data.</li>\n",
    "  <li>Plot the hyperplane described by w = $(3,2)^T, b = -12$</li>\n",
    "  <li>Calculate the $l_2$ distance of data point C from the hyperplane.</li>\n",
    "  <li>Determine if the hyperplane linearly separates the data. Explain.</li>\n",
    "  <li>Calculate the hard margin SVM hyperplane in canonical form.</li>\n",
    "  <li>Which, if any, data points lie on the SVM hyperplane?</li>\n",
    "</ol>"
   ]
  },
  {
   "cell_type": "markdown",
   "metadata": {},
   "source": [
    "## Problem 2: Logistic Regression"
   ]
  },
  {
   "cell_type": "markdown",
   "metadata": {},
   "source": [
    "<p>In this problem, we will use a logistic regression model to classify emails as \"spam\" (1) or \"non-spam\" (0). Recall that the hypothesis/decision rule in a logistic regression model is given by</p>\n",
    "\n",
    "$$h_\\theta(x) = \\sigma(\\theta^Tx) \\\\ \\text{where } \\sigma  \\text{ is the sigmoid function}$$\n",
    "\n",
    "<p>Since logistic regression does not have a closed form solution, we will use gradient descent to obtain the parameters $\\theta$. We will use the negative log likelihood loss with L2 regularization as the loss function. Mathematically, the loss function $l(\\theta)$ for a given set of parameters $\\theta$ will be,</p>\n",
    "\n",
    "$$l(\\theta) = NLL(\\theta) + \\frac{\\lambda}{2}||\\theta||^2 \\\\ \\text{where } NLL(\\theta) = -\\sum_{i=1}^{n} y_i\\log(h(x_i)) + (1 - y_i)\\log(1 - h(x_i))$$\n",
    "\n",
    "<p>The good news is, you won't have to worry about these equations for implementing gradient descent (hurray!). However, what you will need is the gradient or the derivative of the loss function. For a given $n$$ x $$d$ matrix $X$ of data, $n$ x $1$ vector of labels (0/1) $y$, and corresponding $n$ x $1$ vector of predictions $\\hat{y}$, the loss function gradient is</p>\n",
    "\n",
    "$$\\nabla l(\\theta) = (\\hat{y} - y)^{T} \\cdot X + \\lambda \\cdot \\theta$$\n",
    "\n",
    "<ol type=\"a\">\n",
    "    <li>Load the dataset file spambase_data.csv using pandas. The last column in the data is the true labels column i.e. the $y$ vector (1 means spam, 0 means not spam), and the rest of the data is the features matrix i.e. the $X$ matrix. Split the dataset into a train set and a test set. Note: train/test ratio of 0.8/0.2 has been known to work, but you are welcome to try other values.</li>\n",
    "    <li>Using the loss gradient equation above, implement gradient descent (use only the train set for this) to find the parameters $\\theta$ of the logistic regression model. Note: $learning$ $rate = 0.00001$, $\\lambda$ = $10$, and $number$ $of$ $steps = 3000$ have been known to give a decent accuracy but you are welcome to try other values, especially for $number$ $of$ $steps$.</li>\n",
    "    <li>Report the correct classification rate (CCR) of the model on train data and test data. The CCR is defined as $$CCR = \\frac{num\\_correct\\_predictions}{num\\_samples}$$</li>   \n",
    "</ol>"
   ]
  },
  {
   "cell_type": "code",
   "execution_count": 1,
   "metadata": {},
   "outputs": [],
   "source": [
    "import numpy as np\n",
    "import pandas as pd"
   ]
  },
  {
   "cell_type": "code",
   "execution_count": 2,
   "metadata": {},
   "outputs": [],
   "source": [
    "# read in raw dataset\n",
    "\n",
    "\n",
    "# split into train and test sets"
   ]
  },
  {
   "cell_type": "code",
   "execution_count": 3,
   "metadata": {},
   "outputs": [],
   "source": [
    "# fit logistic regression model"
   ]
  },
  {
   "cell_type": "code",
   "execution_count": 12,
   "metadata": {},
   "outputs": [
    {
     "name": "stdout",
     "output_type": "stream",
     "text": [
      "Test ccr = 0.67970, Train ccr = 0.69158\n"
     ]
    }
   ],
   "source": [
    "# predict on test data and train data and calculate CCR"
   ]
  }
 ],
 "metadata": {
  "kernelspec": {
   "display_name": "Python 3",
   "language": "python",
   "name": "python3"
  },
  "language_info": {
   "codemirror_mode": {
    "name": "ipython",
    "version": 3
   },
   "file_extension": ".py",
   "mimetype": "text/x-python",
   "name": "python",
   "nbconvert_exporter": "python",
   "pygments_lexer": "ipython3",
   "version": "3.6.8"
  }
 },
 "nbformat": 4,
 "nbformat_minor": 2
}
